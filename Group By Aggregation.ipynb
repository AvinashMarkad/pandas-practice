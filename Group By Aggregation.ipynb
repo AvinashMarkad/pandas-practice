{
 "cells": [
  {
   "cell_type": "markdown",
   "id": "83398144-8842-4a01-bfb0-a0a21587fbf8",
   "metadata": {},
   "source": [
    "GroupBy & Aggregation"
   ]
  },
  {
   "cell_type": "code",
   "execution_count": 1,
   "id": "ae53bbe1-3713-44a5-ab4c-4900f7b14986",
   "metadata": {},
   "outputs": [],
   "source": [
    "import pandas as pd\n",
    "\n",
    "data = {\n",
    "    'Category': ['A', 'B', 'A', 'B', 'A', 'A', 'B', 'B', 'A', 'B', 'A', 'B'],\n",
    "    'Store':    ['S1', 'S2', 'S1', 'S2', 'S1', 'S2', 'S2', 'S1', 'S1', 'S2', 'S2', 'S1'],\n",
    "    'Sales':    [100, 200, 150, 250, 120, 180, 220, 300, 160, 210, 190, 310],\n",
    "    'Quantity': [10, 15, 12, 18, 8, 20, 15, 25, 11, 17, 22, 30],\n",
    "    'Date':     pd.date_range('2023-01-01', periods=12)\n",
    "}"
   ]
  },
  {
   "cell_type": "code",
   "execution_count": 2,
   "id": "a29f632e-69f3-4690-91cd-254193c522ff",
   "metadata": {},
   "outputs": [],
   "source": [
    "df = pd.DataFrame(data)"
   ]
  },
  {
   "cell_type": "code",
   "execution_count": 3,
   "id": "555ed796-00ff-42d7-a812-8d241c8e61c4",
   "metadata": {},
   "outputs": [
    {
     "data": {
      "text/html": [
       "<div>\n",
       "<style scoped>\n",
       "    .dataframe tbody tr th:only-of-type {\n",
       "        vertical-align: middle;\n",
       "    }\n",
       "\n",
       "    .dataframe tbody tr th {\n",
       "        vertical-align: top;\n",
       "    }\n",
       "\n",
       "    .dataframe thead th {\n",
       "        text-align: right;\n",
       "    }\n",
       "</style>\n",
       "<table border=\"1\" class=\"dataframe\">\n",
       "  <thead>\n",
       "    <tr style=\"text-align: right;\">\n",
       "      <th></th>\n",
       "      <th>Category</th>\n",
       "      <th>Store</th>\n",
       "      <th>Sales</th>\n",
       "      <th>Quantity</th>\n",
       "      <th>Date</th>\n",
       "    </tr>\n",
       "  </thead>\n",
       "  <tbody>\n",
       "    <tr>\n",
       "      <th>0</th>\n",
       "      <td>A</td>\n",
       "      <td>S1</td>\n",
       "      <td>100</td>\n",
       "      <td>10</td>\n",
       "      <td>2023-01-01</td>\n",
       "    </tr>\n",
       "    <tr>\n",
       "      <th>1</th>\n",
       "      <td>B</td>\n",
       "      <td>S2</td>\n",
       "      <td>200</td>\n",
       "      <td>15</td>\n",
       "      <td>2023-01-02</td>\n",
       "    </tr>\n",
       "    <tr>\n",
       "      <th>2</th>\n",
       "      <td>A</td>\n",
       "      <td>S1</td>\n",
       "      <td>150</td>\n",
       "      <td>12</td>\n",
       "      <td>2023-01-03</td>\n",
       "    </tr>\n",
       "    <tr>\n",
       "      <th>3</th>\n",
       "      <td>B</td>\n",
       "      <td>S2</td>\n",
       "      <td>250</td>\n",
       "      <td>18</td>\n",
       "      <td>2023-01-04</td>\n",
       "    </tr>\n",
       "    <tr>\n",
       "      <th>4</th>\n",
       "      <td>A</td>\n",
       "      <td>S1</td>\n",
       "      <td>120</td>\n",
       "      <td>8</td>\n",
       "      <td>2023-01-05</td>\n",
       "    </tr>\n",
       "    <tr>\n",
       "      <th>5</th>\n",
       "      <td>A</td>\n",
       "      <td>S2</td>\n",
       "      <td>180</td>\n",
       "      <td>20</td>\n",
       "      <td>2023-01-06</td>\n",
       "    </tr>\n",
       "    <tr>\n",
       "      <th>6</th>\n",
       "      <td>B</td>\n",
       "      <td>S2</td>\n",
       "      <td>220</td>\n",
       "      <td>15</td>\n",
       "      <td>2023-01-07</td>\n",
       "    </tr>\n",
       "    <tr>\n",
       "      <th>7</th>\n",
       "      <td>B</td>\n",
       "      <td>S1</td>\n",
       "      <td>300</td>\n",
       "      <td>25</td>\n",
       "      <td>2023-01-08</td>\n",
       "    </tr>\n",
       "    <tr>\n",
       "      <th>8</th>\n",
       "      <td>A</td>\n",
       "      <td>S1</td>\n",
       "      <td>160</td>\n",
       "      <td>11</td>\n",
       "      <td>2023-01-09</td>\n",
       "    </tr>\n",
       "    <tr>\n",
       "      <th>9</th>\n",
       "      <td>B</td>\n",
       "      <td>S2</td>\n",
       "      <td>210</td>\n",
       "      <td>17</td>\n",
       "      <td>2023-01-10</td>\n",
       "    </tr>\n",
       "    <tr>\n",
       "      <th>10</th>\n",
       "      <td>A</td>\n",
       "      <td>S2</td>\n",
       "      <td>190</td>\n",
       "      <td>22</td>\n",
       "      <td>2023-01-11</td>\n",
       "    </tr>\n",
       "    <tr>\n",
       "      <th>11</th>\n",
       "      <td>B</td>\n",
       "      <td>S1</td>\n",
       "      <td>310</td>\n",
       "      <td>30</td>\n",
       "      <td>2023-01-12</td>\n",
       "    </tr>\n",
       "  </tbody>\n",
       "</table>\n",
       "</div>"
      ],
      "text/plain": [
       "   Category Store  Sales  Quantity       Date\n",
       "0         A    S1    100        10 2023-01-01\n",
       "1         B    S2    200        15 2023-01-02\n",
       "2         A    S1    150        12 2023-01-03\n",
       "3         B    S2    250        18 2023-01-04\n",
       "4         A    S1    120         8 2023-01-05\n",
       "5         A    S2    180        20 2023-01-06\n",
       "6         B    S2    220        15 2023-01-07\n",
       "7         B    S1    300        25 2023-01-08\n",
       "8         A    S1    160        11 2023-01-09\n",
       "9         B    S2    210        17 2023-01-10\n",
       "10        A    S2    190        22 2023-01-11\n",
       "11        B    S1    310        30 2023-01-12"
      ]
     },
     "execution_count": 3,
     "metadata": {},
     "output_type": "execute_result"
    }
   ],
   "source": [
    "df"
   ]
  },
  {
   "cell_type": "code",
   "execution_count": 4,
   "id": "8f328485-2d8e-484d-a16b-448665b09065",
   "metadata": {},
   "outputs": [
    {
     "name": "stdout",
     "output_type": "stream",
     "text": [
      "('A',    Category Store  Sales  Quantity       Date\n",
      "0         A    S1    100        10 2023-01-01\n",
      "2         A    S1    150        12 2023-01-03\n",
      "4         A    S1    120         8 2023-01-05\n",
      "5         A    S2    180        20 2023-01-06\n",
      "8         A    S1    160        11 2023-01-09\n",
      "10        A    S2    190        22 2023-01-11)\n",
      "('B',    Category Store  Sales  Quantity       Date\n",
      "1         B    S2    200        15 2023-01-02\n",
      "3         B    S2    250        18 2023-01-04\n",
      "6         B    S2    220        15 2023-01-07\n",
      "7         B    S1    300        25 2023-01-08\n",
      "9         B    S2    210        17 2023-01-10\n",
      "11        B    S1    310        30 2023-01-12)\n"
     ]
    }
   ],
   "source": [
    "cat =  df.groupby(\"Category\")\n",
    "for v in cat:\n",
    "    #print(i)\n",
    "    print(v)"
   ]
  },
  {
   "cell_type": "code",
   "execution_count": 5,
   "id": "49f23ac4-7df9-4279-8e3c-22a593671cc0",
   "metadata": {},
   "outputs": [
    {
     "name": "stdout",
     "output_type": "stream",
     "text": [
      "A\n",
      "   Category Store  Sales  Quantity       Date\n",
      "0         A    S1    100        10 2023-01-01\n",
      "2         A    S1    150        12 2023-01-03\n",
      "4         A    S1    120         8 2023-01-05\n",
      "5         A    S2    180        20 2023-01-06\n",
      "8         A    S1    160        11 2023-01-09\n",
      "10        A    S2    190        22 2023-01-11\n",
      "B\n",
      "   Category Store  Sales  Quantity       Date\n",
      "1         B    S2    200        15 2023-01-02\n",
      "3         B    S2    250        18 2023-01-04\n",
      "6         B    S2    220        15 2023-01-07\n",
      "7         B    S1    300        25 2023-01-08\n",
      "9         B    S2    210        17 2023-01-10\n",
      "11        B    S1    310        30 2023-01-12\n"
     ]
    }
   ],
   "source": [
    "cat =  df.groupby(\"Category\")\n",
    "for i,v in cat:\n",
    "    print(i)\n",
    "    print(v)"
   ]
  },
  {
   "cell_type": "code",
   "execution_count": 6,
   "id": "a977e807-a6c8-44f7-a564-09d85173593d",
   "metadata": {},
   "outputs": [
    {
     "data": {
      "text/plain": [
       "Category\n",
       "A     83\n",
       "B    120\n",
       "Name: Quantity, dtype: int64"
      ]
     },
     "execution_count": 6,
     "metadata": {},
     "output_type": "execute_result"
    }
   ],
   "source": [
    "total_Quantity =  df.groupby(\"Category\")[\"Quantity\"].sum()\n",
    "total_Quantity"
   ]
  },
  {
   "cell_type": "code",
   "execution_count": 7,
   "id": "0197daf9-657f-4d2e-b1a1-78c3c05f13c2",
   "metadata": {},
   "outputs": [
    {
     "data": {
      "text/plain": [
       "Category\n",
       "A     900\n",
       "B    1490\n",
       "Name: Sales, dtype: int64"
      ]
     },
     "execution_count": 7,
     "metadata": {},
     "output_type": "execute_result"
    }
   ],
   "source": [
    "total_Sales =  df.groupby(\"Category\")[\"Sales\"].sum()\n",
    "total_Sales"
   ]
  },
  {
   "cell_type": "code",
   "execution_count": 8,
   "id": "7e3cd7d2-cd8e-4d36-a640-403f08261a20",
   "metadata": {},
   "outputs": [
    {
     "data": {
      "text/plain": [
       "Category\n",
       "A    150.000000\n",
       "B    248.333333\n",
       "Name: Sales, dtype: float64"
      ]
     },
     "execution_count": 8,
     "metadata": {},
     "output_type": "execute_result"
    }
   ],
   "source": [
    "mean_Sales =  df.groupby(\"Category\")[\"Sales\"].mean()\n",
    "mean_Sales"
   ]
  },
  {
   "cell_type": "code",
   "execution_count": 9,
   "id": "2568c7a5-0b85-4e65-bf96-d8f50d233531",
   "metadata": {},
   "outputs": [
    {
     "data": {
      "text/plain": [
       "Category\n",
       "A    6\n",
       "B    6\n",
       "Name: Sales, dtype: int64"
      ]
     },
     "execution_count": 9,
     "metadata": {},
     "output_type": "execute_result"
    }
   ],
   "source": [
    "count = df.groupby(\"Category\")[\"Sales\"].count()\n",
    "count"
   ]
  },
  {
   "cell_type": "code",
   "execution_count": 10,
   "id": "ba9da6ff-90cb-4f4e-9ab2-2bb4ae2944d1",
   "metadata": {},
   "outputs": [
    {
     "data": {
      "text/plain": [
       "Category  Store\n",
       "A         S1       530\n",
       "          S2       370\n",
       "B         S1       610\n",
       "          S2       880\n",
       "Name: Sales, dtype: int64"
      ]
     },
     "execution_count": 10,
     "metadata": {},
     "output_type": "execute_result"
    }
   ],
   "source": [
    "sum = df.groupby([\"Category\",\"Store\"])[\"Sales\"].sum()\n",
    "sum"
   ]
  },
  {
   "cell_type": "code",
   "execution_count": 11,
   "id": "bbaacee6-30ae-4bf7-a128-4d93b2e99a3c",
   "metadata": {},
   "outputs": [
    {
     "data": {
      "text/plain": [
       "Category  Store\n",
       "A         S1       41\n",
       "          S2       42\n",
       "B         S1       55\n",
       "          S2       65\n",
       "Name: Quantity, dtype: int64"
      ]
     },
     "execution_count": 11,
     "metadata": {},
     "output_type": "execute_result"
    }
   ],
   "source": [
    "sum = df.groupby([\"Category\",\"Store\"])[\"Quantity\"].sum()\n",
    "sum"
   ]
  },
  {
   "cell_type": "code",
   "execution_count": 12,
   "id": "141f5623-d233-4568-a31a-daf45ca32fab",
   "metadata": {},
   "outputs": [
    {
     "data": {
      "text/plain": [
       "Category  Store\n",
       "A         S1       132.5\n",
       "          S2       185.0\n",
       "B         S1       305.0\n",
       "          S2       220.0\n",
       "Name: Sales, dtype: float64"
      ]
     },
     "execution_count": 12,
     "metadata": {},
     "output_type": "execute_result"
    }
   ],
   "source": [
    "mean = df.groupby([\"Category\",\"Store\"])[\"Sales\"].mean()\n",
    "mean"
   ]
  },
  {
   "cell_type": "code",
   "execution_count": 13,
   "id": "9a7f3733-0ec7-4968-904f-eefdd0d8397d",
   "metadata": {},
   "outputs": [
    {
     "data": {
      "text/plain": [
       "Category  Store\n",
       "A         S1       4\n",
       "          S2       2\n",
       "B         S1       2\n",
       "          S2       4\n",
       "Name: Sales, dtype: int64"
      ]
     },
     "execution_count": 13,
     "metadata": {},
     "output_type": "execute_result"
    }
   ],
   "source": [
    "count = df.groupby([\"Category\",\"Store\"])[\"Sales\"].count()\n",
    "count"
   ]
  },
  {
   "cell_type": "markdown",
   "id": "e1b93310-1d93-4673-b9ed-baac8a136458",
   "metadata": {},
   "source": [
    "Aggregation"
   ]
  },
  {
   "cell_type": "code",
   "execution_count": 15,
   "id": "ae2dd9c4-91ef-437c-8494-2d4e19ab7667",
   "metadata": {},
   "outputs": [
    {
     "data": {
      "text/plain": [
       "np.float64(199.16666666666666)"
      ]
     },
     "execution_count": 15,
     "metadata": {},
     "output_type": "execute_result"
    }
   ],
   "source": [
    "df[\"Sales\"].mean()\n",
    "# median, mode,min, mean, max, count, std"
   ]
  },
  {
   "cell_type": "code",
   "execution_count": 20,
   "id": "603742b0-6564-40c9-9de5-45cb2d59b790",
   "metadata": {},
   "outputs": [
    {
     "data": {
      "text/plain": [
       "64.731379679036"
      ]
     },
     "execution_count": 20,
     "metadata": {},
     "output_type": "execute_result"
    }
   ],
   "source": [
    "df[\"Sales\"].std()"
   ]
  },
  {
   "cell_type": "code",
   "execution_count": 22,
   "id": "768c9b52-b3a2-48cb-a357-c6d53fb77308",
   "metadata": {},
   "outputs": [
    {
     "data": {
      "text/plain": [
       "median    195.000000\n",
       "min       100.000000\n",
       "mean      199.166667\n",
       "max       310.000000\n",
       "count      12.000000\n",
       "std        64.731380\n",
       "Name: Sales, dtype: float64"
      ]
     },
     "execution_count": 22,
     "metadata": {},
     "output_type": "execute_result"
    }
   ],
   "source": [
    "df[\"Sales\"].agg([\"median\",\"min\", \"mean\", \"max\", \"count\", \"std\"])"
   ]
  },
  {
   "cell_type": "code",
   "execution_count": 23,
   "id": "cbf9515a-06d6-489d-bc71-9cc781258a6a",
   "metadata": {},
   "outputs": [
    {
     "data": {
      "text/html": [
       "<div>\n",
       "<style scoped>\n",
       "    .dataframe tbody tr th:only-of-type {\n",
       "        vertical-align: middle;\n",
       "    }\n",
       "\n",
       "    .dataframe tbody tr th {\n",
       "        vertical-align: top;\n",
       "    }\n",
       "\n",
       "    .dataframe thead th {\n",
       "        text-align: right;\n",
       "    }\n",
       "</style>\n",
       "<table border=\"1\" class=\"dataframe\">\n",
       "  <thead>\n",
       "    <tr style=\"text-align: right;\">\n",
       "      <th></th>\n",
       "      <th>mode</th>\n",
       "    </tr>\n",
       "  </thead>\n",
       "  <tbody>\n",
       "    <tr>\n",
       "      <th>0</th>\n",
       "      <td>100</td>\n",
       "    </tr>\n",
       "    <tr>\n",
       "      <th>1</th>\n",
       "      <td>120</td>\n",
       "    </tr>\n",
       "    <tr>\n",
       "      <th>2</th>\n",
       "      <td>150</td>\n",
       "    </tr>\n",
       "    <tr>\n",
       "      <th>3</th>\n",
       "      <td>160</td>\n",
       "    </tr>\n",
       "    <tr>\n",
       "      <th>4</th>\n",
       "      <td>180</td>\n",
       "    </tr>\n",
       "    <tr>\n",
       "      <th>5</th>\n",
       "      <td>190</td>\n",
       "    </tr>\n",
       "    <tr>\n",
       "      <th>6</th>\n",
       "      <td>200</td>\n",
       "    </tr>\n",
       "    <tr>\n",
       "      <th>7</th>\n",
       "      <td>210</td>\n",
       "    </tr>\n",
       "    <tr>\n",
       "      <th>8</th>\n",
       "      <td>220</td>\n",
       "    </tr>\n",
       "    <tr>\n",
       "      <th>9</th>\n",
       "      <td>250</td>\n",
       "    </tr>\n",
       "    <tr>\n",
       "      <th>10</th>\n",
       "      <td>300</td>\n",
       "    </tr>\n",
       "    <tr>\n",
       "      <th>11</th>\n",
       "      <td>310</td>\n",
       "    </tr>\n",
       "  </tbody>\n",
       "</table>\n",
       "</div>"
      ],
      "text/plain": [
       "    mode\n",
       "0    100\n",
       "1    120\n",
       "2    150\n",
       "3    160\n",
       "4    180\n",
       "5    190\n",
       "6    200\n",
       "7    210\n",
       "8    220\n",
       "9    250\n",
       "10   300\n",
       "11   310"
      ]
     },
     "execution_count": 23,
     "metadata": {},
     "output_type": "execute_result"
    }
   ],
   "source": [
    "df[\"Sales\"].agg([\"mode\"])"
   ]
  },
  {
   "cell_type": "code",
   "execution_count": null,
   "id": "a2e26c45-b854-4349-b649-eb2006cf4b8a",
   "metadata": {},
   "outputs": [],
   "source": []
  }
 ],
 "metadata": {
  "kernelspec": {
   "display_name": "Python [conda env:base] *",
   "language": "python",
   "name": "conda-base-py"
  },
  "language_info": {
   "codemirror_mode": {
    "name": "ipython",
    "version": 3
   },
   "file_extension": ".py",
   "mimetype": "text/x-python",
   "name": "python",
   "nbconvert_exporter": "python",
   "pygments_lexer": "ipython3",
   "version": "3.13.5"
  }
 },
 "nbformat": 4,
 "nbformat_minor": 5
}
