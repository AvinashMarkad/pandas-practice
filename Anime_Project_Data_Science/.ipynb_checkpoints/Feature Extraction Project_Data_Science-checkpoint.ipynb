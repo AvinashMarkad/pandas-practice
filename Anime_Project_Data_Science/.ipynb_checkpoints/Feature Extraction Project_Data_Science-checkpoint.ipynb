{
 "cells": [
  {
   "cell_type": "markdown",
   "id": "474c01d0-d810-40dc-b8a8-978434d6a9aa",
   "metadata": {},
   "source": [
    "Anime_Project_Data_Science"
   ]
  },
  {
   "cell_type": "code",
   "execution_count": null,
   "id": "67bb2922-c216-4915-b6c6-5a42e6560aea",
   "metadata": {},
   "outputs": [],
   "source": []
  }
 ],
 "metadata": {
  "kernelspec": {
   "display_name": "Python [conda env:base] *",
   "language": "python",
   "name": "conda-base-py"
  },
  "language_info": {
   "codemirror_mode": {
    "name": "ipython",
    "version": 3
   },
   "file_extension": ".py",
   "mimetype": "text/x-python",
   "name": "python",
   "nbconvert_exporter": "python",
   "pygments_lexer": "ipython3",
   "version": "3.13.5"
  }
 },
 "nbformat": 4,
 "nbformat_minor": 5
}
