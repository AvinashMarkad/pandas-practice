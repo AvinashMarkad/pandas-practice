{
 "cells": [
  {
   "cell_type": "markdown",
   "id": "8d0d9d2b-836e-4112-80a9-4b72db2a1bb3",
   "metadata": {},
   "source": [
    "Pandas Searies\n",
    "\n",
    "a searies is a one dimentional labeled array capeble of holding any data type. This axis labels are collectively called the index."
   ]
  },
  {
   "cell_type": "code",
   "execution_count": null,
   "id": "c5589ec7-cfe1-4edb-9c3f-0a153655b340",
   "metadata": {},
   "outputs": [],
   "source": []
  }
 ],
 "metadata": {
  "kernelspec": {
   "display_name": "Python [conda env:base] *",
   "language": "python",
   "name": "conda-base-py"
  },
  "language_info": {
   "codemirror_mode": {
    "name": "ipython",
    "version": 3
   },
   "file_extension": ".py",
   "mimetype": "text/x-python",
   "name": "python",
   "nbconvert_exporter": "python",
   "pygments_lexer": "ipython3",
   "version": "3.13.5"
  }
 },
 "nbformat": 4,
 "nbformat_minor": 5
}
